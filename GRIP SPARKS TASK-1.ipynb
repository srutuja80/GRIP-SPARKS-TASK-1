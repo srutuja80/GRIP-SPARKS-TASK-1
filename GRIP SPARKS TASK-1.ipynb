{
 "cells": [
  {
   "cell_type": "markdown",
   "metadata": {},
   "source": [
    "Name: Rutuja Anil Sawant\n",
    "GRIP at the Sparks Foundation\n",
    "Task 1\n",
    "To predict the score of a student studying for 9.25 hours/day"
   ]
  },
  {
   "cell_type": "code",
   "execution_count": 4,
   "metadata": {},
   "outputs": [],
   "source": [
    "# Importing all libraries required in this notebook\n",
    "import warnings\n",
    "warnings.filterwarnings('ignore')\n",
    "\n",
    "# imports\n",
    "# pandas \n",
    "import pandas as pd\n",
    "# numpy\n",
    "import numpy as np\n",
    "# matplotlib \n",
    "import matplotlib.pyplot as plt\n",
    "#%matplotlib inline\n",
    "plt.style.use('ggplot')\n",
    "# seaborn\n",
    "import seaborn as sns\n",
    "\n",
    "# Reading data from link\n",
    "link = \"https://raw.githubusercontent.com/AdiPersonalWorks/Random/master/student_scores%20-%20student_scores.csv\"\n",
    "data = pd.read_csv(link,header='infer')"
   ]
  },
  {
   "cell_type": "code",
   "execution_count": 5,
   "metadata": {},
   "outputs": [
    {
     "name": "stdout",
     "output_type": "stream",
     "text": [
      "\n",
      "*** Columns ***\n",
      "Index(['Hours', 'Scores'], dtype='object')\n",
      "\n",
      "*** Structure ***\n",
      "<class 'pandas.core.frame.DataFrame'>\n",
      "RangeIndex: 25 entries, 0 to 24\n",
      "Data columns (total 2 columns):\n",
      " #   Column  Non-Null Count  Dtype  \n",
      "---  ------  --------------  -----  \n",
      " 0   Hours   25 non-null     float64\n",
      " 1   Scores  25 non-null     int64  \n",
      "dtypes: float64(1), int64(1)\n",
      "memory usage: 528.0 bytes\n",
      "None\n",
      "\n",
      "*** Summary ***\n",
      "           Hours     Scores\n",
      "count  25.000000  25.000000\n",
      "mean    5.012000  51.480000\n",
      "std     2.525094  25.286887\n",
      "min     1.100000  17.000000\n",
      "25%     2.700000  30.000000\n",
      "50%     4.800000  47.000000\n",
      "75%     7.400000  75.000000\n",
      "max     9.200000  95.000000\n",
      "\n",
      "*** Head ***\n",
      "   Hours  Scores\n",
      "0    2.5      21\n",
      "1    5.1      47\n",
      "2    3.2      27\n",
      "3    8.5      75\n",
      "4    3.5      30\n"
     ]
    }
   ],
   "source": [
    "##############################################################\n",
    "# Exploratory Data Analytics\n",
    "##############################################################\n",
    "\n",
    "# columns\n",
    "print(\"\\n*** Columns ***\")\n",
    "print(data.columns)\n",
    "\n",
    "# info\n",
    "print(\"\\n*** Structure ***\")\n",
    "print(data.info())\n",
    "\n",
    "# summary\n",
    "print(\"\\n*** Summary ***\")\n",
    "print(data.describe())\n",
    "\n",
    "# head\n",
    "print(\"\\n*** Head ***\")\n",
    "print(data.head())\n"
   ]
  },
  {
   "cell_type": "code",
   "execution_count": 7,
   "metadata": {},
   "outputs": [],
   "source": [
    "depVars = \"Scores\""
   ]
  },
  {
   "cell_type": "code",
   "execution_count": 8,
   "metadata": {},
   "outputs": [
    {
     "name": "stdout",
     "output_type": "stream",
     "text": [
      "\n",
      "*** Regression Data ***\n",
      "['Hours', 'Scores']\n",
      "['Hours']\n",
      "\n",
      "*** Regression Model ***\n",
      "(25, 1)\n",
      "(25,)\n",
      "<class 'numpy.ndarray'>\n",
      "<class 'numpy.ndarray'>\n",
      "LinearRegression()\n"
     ]
    }
   ],
   "source": [
    "##############################################################\n",
    "# Model Creation & Fitting And Prediction for Feature 'rm'\n",
    "##############################################################\n",
    "\n",
    "# all cols except dep var\n",
    "print(\"\\n*** Regression Data ***\")\n",
    "allCols = data.columns.tolist()\n",
    "print(allCols)\n",
    "allCols.remove(depVars)\n",
    "print(allCols)\n",
    "\n",
    "# now create linear regression model\n",
    "print(\"\\n*** Regression Model ***\")\n",
    "X = data[allCols].values.reshape(-1,1)\n",
    "y = data[depVars].values\n",
    "print(X.shape)\n",
    "print(y.shape)\n",
    "print(type(X))\n",
    "print(type(y))\n",
    "\n",
    "from sklearn.linear_model import LinearRegression\n",
    "model = LinearRegression()\n",
    "print(model)\n",
    "model.fit(X,y)\n",
    "\n",
    "# predict\n",
    "p = model.predict(X)\n",
    "data['predict'] = p"
   ]
  },
  {
   "cell_type": "code",
   "execution_count": 9,
   "metadata": {},
   "outputs": [
    {
     "name": "stdout",
     "output_type": "stream",
     "text": [
      "\n",
      "*** Scatter Plot ***\n"
     ]
    },
    {
     "data": {
      "image/png": "[encoded data removed]",
      "text/plain": [
       "<Figure size 432x288 with 1 Axes>"
      ]
     },
     "metadata": {},
     "output_type": "display_data"
    },
    {
     "name": "stdout",
     "output_type": "stream",
     "text": [
      "\n",
      "*** Mean Absolute Error ***\n",
      "4.972805319866375\n",
      "\n",
      "*** Mean Squared Error ***\n",
      "28.88273050924546\n",
      "\n",
      "*** Root Mean Squared Error ***\n",
      "5.374265578592619\n",
      "\n",
      "*** Mean ***\n",
      "51.48\n",
      "51.48\n",
      "\n",
      "*** Scatter Index ***\n",
      "0.1043952132593749\n"
     ]
    }
   ],
   "source": [
    "##############################################################\n",
    "# Model Evaluation\n",
    "##############################################################\n",
    "\n",
    "# visualize \n",
    "print(\"\\n*** Scatter Plot ***\")\n",
    "plt.figure()\n",
    "sns.regplot(data=data, x=depVars, y='predict', color='b', scatter_kws={\"s\": 10})\n",
    "plt.show()\n",
    "\n",
    "# mae \n",
    "print(\"\\n*** Mean Absolute Error ***\")\n",
    "from sklearn.metrics import mean_absolute_error\n",
    "mae = mean_absolute_error(data[depVars], data['predict'])\n",
    "print(mae)\n",
    "\n",
    "# mse\n",
    "print(\"\\n*** Mean Squared Error ***\")\n",
    "from sklearn.metrics import mean_squared_error\n",
    "mse = mean_squared_error(data[depVars], data['predict'])\n",
    "print(mse)\n",
    "   \n",
    "# rmse \n",
    "print(\"\\n*** Root Mean Squared Error ***\")\n",
    "rmse = np.sqrt(mse)\n",
    "print(rmse)\n",
    "\n",
    "# check mean\n",
    "print('\\n*** Mean ***')\n",
    "print(data[depVars].mean())\n",
    "print(data['predict'].mean())\n",
    "\n",
    "\n",
    "# scatter index (SI) is defined to judge whether RMSE is good or not. \n",
    "# SI=RMSE/measured data mean. \n",
    "# If SI is less than one, your estimations are acceptable.\n",
    "print('\\n*** Scatter Index ***')\n",
    "si = rmse/data[depVars].mean()\n",
    "print(si)"
   ]
  },
  {
   "cell_type": "code",
   "execution_count": 12,
   "metadata": {},
   "outputs": [
    {
     "name": "stdout",
     "output_type": "stream",
     "text": [
      "[9.25]\n",
      "[92.90985477]\n",
      "Predicted score if student studies for 9.25hrs/day is =  [92.90985477]\n"
     ]
    }
   ],
   "source": [
    "#To predict the score of a student studying for 9.25 hours/day\n",
    "prd_X = np.array(9.25)\n",
    "prd_X = prd_X.reshape(-1,1)\n",
    "print(prd_X.flatten())\n",
    "\n",
    "prd_p = model.predict(prd_X)\n",
    "print(prd_p)\n",
    "print(\"Predicted score if student studies for 9.25hrs/day is = \", prd_p)"
   ]
  },
  {
   "cell_type": "code",
   "execution_count": null,
   "metadata": {},
   "outputs": [],
   "source": []
  }
 ],
 "metadata": {
  "kernelspec": {
   "display_name": "Python 3",
   "language": "python",
   "name": "python3"
  },
  "language_info": {
   "codemirror_mode": {
    "name": "ipython",
    "version": 3
   },
   "file_extension": ".py",
   "mimetype": "text/x-python",
   "name": "python",
   "nbconvert_exporter": "python",
   "pygments_lexer": "ipython3",
   "version": "3.8.3"
  }
 },
 "nbformat": 4,
 "nbformat_minor": 4
}
