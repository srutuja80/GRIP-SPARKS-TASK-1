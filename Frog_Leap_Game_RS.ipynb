{
  "nbformat": 4,
  "nbformat_minor": 0,
  "metadata": {
    "colab": {
      "provenance": [],
      "authorship_tag": "ABX9TyNOXkIEBe8/u4jyJj6SvCRz",
      "include_colab_link": true
    },
    "kernelspec": {
      "name": "python3",
      "display_name": "Python 3"
    },
    "language_info": {
      "name": "python"
    }
  },
  "cells": [
    {
      "cell_type": "markdown",
      "metadata": {
        "id": "view-in-github",
        "colab_type": "text"
      },
      "source": [
        "<a href=\"https://colab.research.google.com/github/srutuja80/GRIP-SPARKS-TASK-1/blob/main/Frog_Leap_Game_RS.ipynb\" target=\"_parent\"><img src=\"https://colab.research.google.com/assets/colab-badge.svg\" alt=\"Open In Colab\"/></a>"
      ]
    },
    {
      "cell_type": "code",
      "execution_count": 5,
      "metadata": {
        "colab": {
          "base_uri": "https://localhost:8080/"
        },
        "id": "5SSKtD95yPtQ",
        "outputId": "3eeebd63-9df6-42c1-de3b-e72a5800a27f"
      },
      "outputs": [
        {
          "output_type": "stream",
          "name": "stdout",
          "text": [
            "..................Let's play Frog leap game..........\n",
            "\n",
            "Assume letters G and B represent green and brown frogs respectively.\n",
            "['G', 'G', 'G', '_', 'B', 'B', 'B']\n",
            "#### Always enter the values less than 7 ####\n",
            "\n",
            "[ 0 ,  1 ,  2 ,  3 ,  4 ,  5 ,  6 ]\n",
            "['G', 'G', 'G', '_', 'B', 'B', 'B']\n",
            "Press q to quit else \n",
            "Enter position of piece:4\n",
            "[ 0 ,  1 ,  2 ,  3 ,  4 ,  5 ,  6 ]\n",
            "['G', 'G', 'G', 'B', '_', 'B', 'B']\n",
            "Press q to quit else \n",
            "Enter position of piece:5\n",
            "[ 0 ,  1 ,  2 ,  3 ,  4 ,  5 ,  6 ]\n",
            "['G', 'G', 'G', 'B', 'B', '_', 'B']\n",
            "Press q to quit else \n",
            "Enter position of piece:6\n",
            "[ 0 ,  1 ,  2 ,  3 ,  4 ,  5 ,  6 ]\n",
            "['G', 'G', 'G', 'B', 'B', 'B', '_']\n",
            "You are stuck. \n",
            " Please try your luck again.\n"
          ]
        }
      ],
      "source": [
        "print(\"..................Let's play Frog leap game..........\\n\")\n",
        "print(\"Assume letters G and B represent green and brown frogs respectively.\")\n",
        "\n",
        "positions = ['G', 'G', 'G', '_', 'B', 'B', 'B'] # initial display of frog positions\n",
        "print(positions)\n",
        "\n",
        "print(\"#### Always enter the values less than 7 ####\\n\") # assigning numbers to these positions\n",
        "print(\"[ 0 ,  1 ,  2 ,  3 ,  4 ,  5 ,  6 ]\")\n",
        "print(positions)\n",
        "\n",
        "while True:\n",
        "  pos = input(\"Press q to quit else \\nEnter position of piece:\")\n",
        "\n",
        "  if pos == 'q': #for quiting the game\n",
        "    print(\"Ohh sad to see you leave..\")\n",
        "    break\n",
        "  pos = int(pos) #Typecast str to int\n",
        "\n",
        "  if pos < 0 or 6 < pos: #Condition if selected position is less than or equal to 6 and more than or equal to 0\n",
        "     print(\"Invalid Move\")\n",
        "     continue\n",
        "  if positions[pos] == '_': #Condition if selected position is blank\n",
        "     print(\"Invalid Move\")\n",
        "     continue\n",
        "\n",
        "#Using if-else loop\n",
        "  pos2 = 0\n",
        "  if positions[pos] == 'G':\n",
        "    if pos + 1 <=6 and positions[pos+1] == '_':\n",
        "      pos2 = pos + 1\n",
        "    elif pos + 2 <=6 and positions[pos + 2] == '_' and positions[pos + 1] == 'B':\n",
        "      pos2 = pos + 2\n",
        "    else:\n",
        "      print(\"Invalid Move\")\n",
        "      continue\n",
        "\n",
        "  if positions[pos] == 'B':\n",
        "    if pos - 1 >=0 and positions[pos-1] == '_':\n",
        "      pos2 = pos - 1\n",
        "    elif pos - 2 >=0 and positions[pos - 2] == '_' and positions[pos - 1] == 'G':\n",
        "      pos2 = pos - 2\n",
        "    else:\n",
        "      print(\"Invalid Move\")\n",
        "      continue\n",
        "\n",
        "#Swapping positions\n",
        "  positions[pos], positions[pos2] = positions[pos2] , positions[pos]\n",
        "\n",
        "  print(\"[ 0 ,  1 ,  2 ,  3 ,  4 ,  5 ,  6 ]\")\n",
        "  print(positions)\n",
        "\n",
        "  if positions == ['B', 'B', 'B', '_', 'G', 'G', 'G']:\n",
        "    print(\"You Win\")\n",
        "    break\n",
        "\n",
        "  if positions == ['B', 'B', 'B', 'G', 'G', 'G', '_'] or positions == ['_', 'G', 'G', 'G', 'B', 'B', 'B'] or positions == ['G', 'G', 'G', 'B', 'B', 'B', '_'] or positions == ['_', 'B', 'B', 'B', 'G', 'G', 'G'] or positions == ['B', 'B', 'G', 'G', 'G', '_', 'B'] or positions == ['G', '_', 'B', 'B', 'B', 'G', 'G'] or positions == ['G', 'G', 'B', 'B', 'B', '_', 'G'] or positions == ['B', 'G', 'G', '_', 'B', 'B', 'G'] or positions == ['G', 'B', 'B', '_', 'G', 'G', 'B']:\n",
        "    print(\"You are stuck. \\n Please try your luck again.\")\n",
        "    break"
      ]
    }
  ]
}